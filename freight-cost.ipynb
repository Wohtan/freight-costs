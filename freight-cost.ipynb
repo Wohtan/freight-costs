{
 "cells": [
  {
   "cell_type": "code",
   "execution_count": 225,
   "metadata": {},
   "outputs": [],
   "source": [
    "import pandas as pd\n",
    "from constants import *\n",
    "\n",
    "weight_dependent = [\n",
    "\"handling\",\n",
    "\"intl freight\"]\n",
    "\n",
    "weight_tables = {}\n",
    "\n",
    "for i in weight_dependent:\n",
    "    weight_tables[i] = pd.read_csv(f'./CSVs/{i}.csv', dtype = {'weight':'float64'})\n",
    "\n",
    "\n",
    "customs_value_dependent = [\"complementary services\",\n",
    "\"keeping\"\n",
    "]\n",
    "\n",
    "customs_value_tables = {}\n",
    "\n",
    "for i in customs_value_dependent:\n",
    "    customs_value_tables[i] = pd.read_csv(f'./CSVs/{i}.csv', dtype = {'customs value':'float64'})\n"
   ]
  },
  {
   "cell_type": "code",
   "execution_count": 226,
   "metadata": {},
   "outputs": [],
   "source": [
    "input_data = {'weight':12.0,\n",
    "    \"EXW/FCA value\": 123840,\n",
    "    \"currency\" : \"MXN\",\n",
    "    \"height\" : 65,\n",
    "    \"length\" : 20, \n",
    "    \"depth\" :  10,\n",
    "    \"IGI\" : 0.05\n",
    "}"
   ]
  },
  {
   "cell_type": "code",
   "execution_count": 227,
   "metadata": {},
   "outputs": [],
   "source": [
    "##Performs currency exchange if needed\n",
    "\n",
    "if input_data['currency'] != 'MXN':\n",
    "    input_data['EXW/FCA value'] *= exchange_rates[input_data['currency']]"
   ]
  },
  {
   "cell_type": "code",
   "execution_count": 228,
   "metadata": {},
   "outputs": [],
   "source": [
    "def calculate_weight():\n",
    "    global input_data\n",
    "    height = input_data['height']\n",
    "    length = input_data['length']\n",
    "    depth = input_data['depth']\n",
    "    \n",
    "    input_weight = input_data['weight']\n",
    "    vol_weight = (height * length * depth)/5000\n",
    "\n",
    "    if input_weight > vol_weight:\n",
    "        return input_weight\n",
    "    else:\n",
    "        return vol_weight"
   ]
  },
  {
   "cell_type": "code",
   "execution_count": 229,
   "metadata": {},
   "outputs": [],
   "source": []
  },
  {
   "cell_type": "code",
   "execution_count": 230,
   "metadata": {},
   "outputs": [],
   "source": [
    "def weight_costs_query():\n",
    "    query_df = pd.DataFrame()\n",
    "    query_df['weight'] = [weight]\n",
    "\n",
    "    for table in weight_tables:\n",
    "        query_df[table] = pd.merge_asof(query_df['weight'],\n",
    "        weight_tables[table],\n",
    "        on= 'weight',\n",
    "        direction = 'forward').iloc[:,1] ##Appends only the second column\n",
    "\n",
    "    query_df = query_df.to_dict(orient='records') ## It comes as a list of dictionaries\n",
    "    query_df = query_df[0] ##Gets rid of the list\n",
    "    query_df.pop('weight')\n",
    "\n",
    "    ##The intl. freight is in USD, exchange required:\n",
    "    query_df['intl freight'] *= exchange_rates['USD']\n",
    "\n",
    "    return query_df"
   ]
  },
  {
   "cell_type": "code",
   "execution_count": 231,
   "metadata": {},
   "outputs": [],
   "source": [
    "costs = weight_costs_query()"
   ]
  },
  {
   "cell_type": "code",
   "execution_count": 232,
   "metadata": {},
   "outputs": [
    {
     "data": {
      "text/plain": [
       "{'handling': 1354, 'intl freight': 2461.2200000000003}"
      ]
     },
     "execution_count": 232,
     "metadata": {},
     "output_type": "execute_result"
    }
   ],
   "source": [
    "costs"
   ]
  },
  {
   "cell_type": "code",
   "execution_count": 233,
   "metadata": {},
   "outputs": [],
   "source": [
    "customs_value = input_data['EXW/FCA value'] + costs['intl freight']"
   ]
  },
  {
   "cell_type": "code",
   "execution_count": 234,
   "metadata": {},
   "outputs": [],
   "source": [
    "def customsval_costs_query():\n",
    "    query_df = pd.DataFrame()\n",
    "    query_df['customs value'] = [customs_value]\n",
    "\n",
    "    for table in customs_value_tables:\n",
    "        query_df[table] = pd.merge_asof(query_df['customs value'],\n",
    "        customs_value_tables[table],\n",
    "        on= 'customs value',\n",
    "        direction = 'forward').iloc[:,1] ##Appends only the second column\n",
    "\n",
    "    query_df = query_df.to_dict(orient='records') ## It comes as a list of dictionaries\n",
    "    query_df = query_df[0] ##Gets rid of the list\n",
    "    query_df.pop('customs value')\n",
    "\n",
    "    return query_df   \n",
    "    "
   ]
  },
  {
   "cell_type": "code",
   "execution_count": 235,
   "metadata": {},
   "outputs": [],
   "source": [
    "costs.update(customsval_costs_query())"
   ]
  },
  {
   "cell_type": "code",
   "execution_count": 236,
   "metadata": {},
   "outputs": [],
   "source": [
    "costs['DTA'] = customs_value * 0.008\n",
    "costs['IGI'] = customs_value * input_data['IGI']"
   ]
  },
  {
   "cell_type": "code",
   "execution_count": 237,
   "metadata": {},
   "outputs": [],
   "source": [
    "costs.update(fixed_costs)"
   ]
  },
  {
   "cell_type": "code",
   "execution_count": 238,
   "metadata": {},
   "outputs": [],
   "source": [
    "nonfree_surcharge = costs['additional handling'] + costs['keeping'] + costs['storage']\n",
    "maneuvers_total = costs['handling'] + costs['maneuvers'] + nonfree_surcharge"
   ]
  },
  {
   "cell_type": "code",
   "execution_count": 239,
   "metadata": {},
   "outputs": [],
   "source": [
    "def agents_fee():\n",
    "    values = [customs_value,\n",
    "    costs['DTA'],\n",
    "    costs['IGI'],\n",
    "    278,\n",
    "    maneuvers_total,\n",
    "    nonfree_surcharge,\n",
    "    costs['DHL management surcharge']]\n",
    "    values_sum = sum(values) * 1.16 * 0.004\n",
    "\n",
    "    if values_sum > 1000:\n",
    "        return values_sum\n",
    "    else:\n",
    "        return 1000\n"
   ]
  },
  {
   "cell_type": "code",
   "execution_count": 240,
   "metadata": {},
   "outputs": [],
   "source": [
    "costs['agents fee'] = agents_fee()"
   ]
  },
  {
   "cell_type": "code",
   "execution_count": 241,
   "metadata": {},
   "outputs": [
    {
     "data": {
      "text/plain": [
       "{'handling': 1354,\n",
       " 'intl freight': 2461.2200000000003,\n",
       " 'complementary services': 713,\n",
       " 'keeping': 2808,\n",
       " 'DTA': 1010.40976,\n",
       " 'IGI': 6315.061000000001,\n",
       " 'agent fixed surcharges': 850,\n",
       " 'additional handling': 656,\n",
       " 'storage': 604,\n",
       " 'maneuvers': 322,\n",
       " 'DHL management surcharge': 448.28,\n",
       " 'agents fee': 1000}"
      ]
     },
     "execution_count": 241,
     "metadata": {},
     "output_type": "execute_result"
    }
   ],
   "source": [
    "costs"
   ]
  },
  {
   "cell_type": "code",
   "execution_count": 242,
   "metadata": {},
   "outputs": [
    {
     "data": {
      "text/plain": [
       "5744"
      ]
     },
     "execution_count": 242,
     "metadata": {},
     "output_type": "execute_result"
    }
   ],
   "source": [
    "maneuvers_total"
   ]
  }
 ],
 "metadata": {
  "interpreter": {
   "hash": "916dbcbb3f70747c44a77c7bcd40155683ae19c65e1c03b4aa3499c5328201f1"
  },
  "kernelspec": {
   "display_name": "Python 3.8.10 64-bit",
   "language": "python",
   "name": "python3"
  },
  "language_info": {
   "codemirror_mode": {
    "name": "ipython",
    "version": 3
   },
   "file_extension": ".py",
   "mimetype": "text/x-python",
   "name": "python",
   "nbconvert_exporter": "python",
   "pygments_lexer": "ipython3",
   "version": "3.8.10"
  },
  "orig_nbformat": 4
 },
 "nbformat": 4,
 "nbformat_minor": 2
}
